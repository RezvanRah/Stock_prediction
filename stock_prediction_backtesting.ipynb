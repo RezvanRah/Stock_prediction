{
 "cells": [
  {
   "cell_type": "markdown",
   "id": "0964f3fd-f94a-4612-9629-ca67fd84e715",
   "metadata": {},
   "source": [
    "<h1> Building a backtesting system </h1>"
   ]
  },
  {
   "cell_type": "markdown",
   "id": "5cf57896-21e5-4b2c-9e45-6407e962a30b",
   "metadata": {},
   "source": [
    "Currently we're only able to test against the last 100 days. </br>\n",
    "In real world, we want to be able to test across multiple years of data, so we're gonna do something called \"back testing\"."
   ]
  },
  {
   "cell_type": "code",
   "execution_count": 1,
   "id": "27fc9443-ce76-4db3-8f26-5217d677ec34",
   "metadata": {},
   "outputs": [],
   "source": [
    "#first, we create a prediction function\n",
    "def predict(train, test, predictors, model):\n",
    "    model.fit(train[predictors], train[\"Target\"])\n",
    "    preds = model.predict(test[predictors])\n",
    "    preds = pd.Series(preds, index=test.index, name=\"Predictions\")\n",
    "    combined = pd.concat([test[\"Target\"], preds], axis=1)\n",
    "    return combined"
   ]
  },
  {
   "cell_type": "markdown",
   "id": "7e27d1ac-4bdd-45e6-b652-b0db065e7cde",
   "metadata": {},
   "source": [
    "Now, we create a backtest function. \n",
    "It takes the s&p500 data, the ML model, the predictors, start and step value. </br>\n",
    "We give start the value of 2500, because every trading year has about 250 days. We want to backtest data for 10 years. (250 * 10 = 2500) </br>\n",
    "step is 250, because we will train a model for about a year and then going to the next year and so on... </br>\n",
    "So we're gonna take the first 10 years of data and predict values for the 11th year.\n",
    "Then we'll take the first 11th years and predict values for the 12th year and so on...</br>\n",
    "This way, we'll be able to have more confidence in our model.\n"
   ]
  },
  {
   "cell_type": "code",
   "execution_count": 3,
   "id": "0a087bdd-5d87-4113-9033-1a1f651c8269",
   "metadata": {},
   "outputs": [],
   "source": [
    "def backtest(data, model, predictors, start=2500, step=250):\n",
    "    all_predictions = []\n",
    "    \n",
    "    #loop across the data year by year and make predictions for all the years except the first 10 or so\n",
    "    #data.shape[0] = rows\n",
    "    for i in range(start, data.shape[0], step):\n",
    "        #spliting train and test data\n",
    "        #train = all of the years prior to the current year\n",
    "        train = data.iloc[0:i].copy()\n",
    "        #test = the current year\n",
    "        test = data.iloc[i:(i+step)].copy()\n",
    "        #using predict function to generate our predictions\n",
    "        predictions = predict(train, test, predictors, model)\n",
    "        all_predictions.append(predictions)\n",
    "        #at the end, we're gonna concatenate all our predictions together\n",
    "    return pd.concat(all_predictions)"
   ]
  },
  {
   "cell_type": "code",
   "execution_count": null,
   "id": "871fd7d2-1269-462b-88ff-fb8980859007",
   "metadata": {},
   "outputs": [],
   "source": [
    "#backtesting for s&p500 data with the model and predictors we created earlier\n",
    "predictions = backtest(sp500, model, predictors)"
   ]
  },
  {
   "cell_type": "code",
   "execution_count": null,
   "id": "5ac2429a-24da-46de-a151-75b1228374b6",
   "metadata": {},
   "outputs": [],
   "source": [
    "#lets see how many days we predicted the market would go up versus down\n",
    "#1 = up\n",
    "#0 = down\n",
    "predictions[\"Predictions\"].value_counts()"
   ]
  },
  {
   "cell_type": "code",
   "execution_count": null,
   "id": "69d8732b-cc9c-402b-9eaa-48b764979769",
   "metadata": {},
   "outputs": [],
   "source": [
    "#cheking precisions score for accuracy\n",
    "#so when we said the market would go up it went 52% of the time\n",
    "precision_score(predictions[\"Target\"], predictions[\"Predictions\"])"
   ]
  },
  {
   "cell_type": "code",
   "execution_count": null,
   "id": "1f82b2fa-57c3-4d9b-953f-0a2369b82e65",
   "metadata": {},
   "outputs": [],
   "source": [
    "#percentage of days where the market actually went up\n",
    "predictions[\"Target\"].value_counts() / predictions.shape[0]"
   ]
  },
  {
   "cell_type": "markdown",
   "id": "472cceb8-6319-4e81-ae12-bd07fef5b67c",
   "metadata": {},
   "source": [
    "<h1> Adding more predictors to our model to improve the accuracy </h1>"
   ]
  },
  {
   "cell_type": "markdown",
   "id": "410e9ab9-3a45-44ca-acf4-cbbdd44ef2c2",
   "metadata": {},
   "source": [
    "We're gonna create a variety of rolling averages and aluculate the mean close price in the last 2 days, he last trading week which is 5 days, the last 3 month which is 60 trading days, the last year = 250 trading days, the last 4 years = 1000 trading days. </br>\n",
    "Then we're gonna find the ratio between today's closing price and the closing price in those periods.\n",
    "It will helps us know if the market has gone up a tone, it maybe due for a downturn. and if the market has gone down a ton, it maybe due for an upswing."
   ]
  },
  {
   "cell_type": "code",
   "execution_count": null,
   "id": "4fcbb386-7686-4c27-8658-bfa9b969cbf1",
   "metadata": {},
   "outputs": [],
   "source": [
    "horizons = [2, 5, 60, 250, 1000]\n",
    "new_predictors = []\n",
    "\n",
    "#we're gonna loop through these horizones and then we're gonna calculate a rolling average against that horizon\n",
    "for horizon in horizons:\n",
    "    rolling_averages = sp500.rolling(horizon).mean()\n",
    "    #creating a couple of columns\n",
    "    ratio_column = f\"Close_Ration_{horizon}\"\n",
    "    # so the first loop is going to be the ration between today's close and the average close in the last 2 days\n",
    "    # second time through the loop it'll be the ratio between today's close and the average close in the last 5 days and so on...\n",
    "    sp500[ratio_column] = sp500[\"Close\"] / rolling_averages[\"Close\"]\n",
    "\n",
    "    #trend is gonna be the number of days in the past x days whatever horizon is that the stock market actually went up\n",
    "    trend_column = f\"Trend_{horizon}\"\n",
    "    #shifting forward then we'll find rolling sum of the target\n",
    "    sp500[trend_column] = sp500.shift(1).rolling(horizon).sum()[\"Target\"]\n",
    "    \n",
    "    new_predictors += [ratio_column, trend_column]\n",
    "    \n",
    "    #deleting NaN values\n",
    "    sp500 = sp500.dropna()"
   ]
  },
  {
   "cell_type": "markdown",
   "id": "e797b4d6-721f-41de-93bc-f9662fc47417",
   "metadata": {},
   "source": [
    "<h1> Improving our model </h1>"
   ]
  },
  {
   "cell_type": "code",
   "execution_count": null,
   "id": "94c9ed5a-90bc-4aa6-8d8c-001f2fe58ede",
   "metadata": {},
   "outputs": [],
   "source": [
    "#increasing the number of estimators and reducing the number of min samples\n",
    "model = RandomForestClassifier(n_estimators=200, min_samples_split=50, random_state=1)"
   ]
  },
  {
   "cell_type": "markdown",
   "id": "0bc2840f-473b-4205-9974-c9321424357f",
   "metadata": {},
   "source": [
    "When we run .predict the model returns 0 or 1. \n",
    "We want more control over what we define, what becomes 1 and what becomes 0.\n",
    "So instead, we're gonna use .predict_proba method.\n",
    "It will return a probability that the row will be 0 or 1.\n",
    "(The probability of stock market going up or down tomorrow.)"
   ]
  },
  {
   "cell_type": "markdown",
   "id": "1f179746-41ef-4859-8871-73cdf918a6e9",
   "metadata": {},
   "source": [
    "Then we want to set our custom threshold.\n",
    "By default, the threshold is 0.5 </br>\n",
    "It means: if there's greater than a 50 chance that the price will go up, the model return that the price will go up. But we're gonna set the threshold to 60, so this means the model has to be more confident the price will go up.\n",
    "This way, it's gonna reduce our total number of trading days. \n",
    "So it'll reduce the number of days that it predicts the price will go up.\n",
    "But it will increase the chance that the price will actually go up on those days.\n",
    "It fit's really well with what we want"
   ]
  },
  {
   "cell_type": "code",
   "execution_count": null,
   "id": "61a7436f-5b49-4194-bc8e-c37eba70d24d",
   "metadata": {},
   "outputs": [],
   "source": [
    "def predict(train, test, predictors, model):\n",
    "    model.fit(train[predictors], train[\"Target\"])\n",
    "    #we're gonna get the second column which will be the probability\n",
    "    preds = model.predict_proba(test[predictors])[:,1]\n",
    "\n",
    "    preds[preds >= .6] = 1\n",
    "    preds[preds < .6] = 0\n",
    "    \n",
    "    preds = pd.Series(preds, index=test.index, name=\"Predictions\")\n",
    "    combined = pd.concat([test[\"Target\"], preds], axis=1)\n",
    "    return combined"
   ]
  },
  {
   "cell_type": "code",
   "execution_count": null,
   "id": "46bf673b-990a-4d9c-980e-ca86c625cccc",
   "metadata": {},
   "outputs": [],
   "source": [
    "#running our backtest again\n",
    "#this time we use ratio = new_predictors\n",
    "predictions = backtest(sp500, model, new_predictors)"
   ]
  },
  {
   "cell_type": "markdown",
   "id": "dd17842d-23c9-4580-8f81-18f2d0f62fc9",
   "metadata": {},
   "source": [
    "The distribution is diffrent now.\n",
    "This time, there's only a few days that we've predicted the price would go up.\n",
    "That's because we change the threshold.\n",
    "We asked the model to be more confident in its predictions, and it means we're gonna buy stock on fewer days and hopefully we'll be more accurate on those days."
   ]
  },
  {
   "cell_type": "code",
   "execution_count": null,
   "id": "8a8ebf8c-578b-4956-b5bf-9575f8dcf7c4",
   "metadata": {},
   "outputs": [],
   "source": [
    "predictions[\"Predictions\"].value_counts()"
   ]
  },
  {
   "cell_type": "code",
   "execution_count": null,
   "id": "4c378968-9e9f-49c5-b0a9-e3333a251535",
   "metadata": {},
   "outputs": [],
   "source": [
    "#we'll check the precision score\n",
    "precision_score(predictions[\"Target\"], predictions[\"Predictions\"])"
   ]
  },
  {
   "cell_type": "code",
   "execution_count": 9,
   "id": "3912c7a0-5ccf-43b4-b212-252b0d766759",
   "metadata": {},
   "outputs": [],
   "source": [
    "#so when the model predicts that the stock will go up, it will go up ??% of the time"
   ]
  },
  {
   "cell_type": "code",
   "execution_count": null,
   "id": "4bb7562a-e7b8-4124-8c5b-38369f767562",
   "metadata": {},
   "outputs": [],
   "source": [
    "predictions"
   ]
  }
 ],
 "metadata": {
  "kernelspec": {
   "display_name": "Python 3 (ipykernel)",
   "language": "python",
   "name": "python3"
  },
  "language_info": {
   "codemirror_mode": {
    "name": "ipython",
    "version": 3
   },
   "file_extension": ".py",
   "mimetype": "text/x-python",
   "name": "python",
   "nbconvert_exporter": "python",
   "pygments_lexer": "ipython3",
   "version": "3.8.13"
  }
 },
 "nbformat": 4,
 "nbformat_minor": 5
}
